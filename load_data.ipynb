{
 "cells": [
  {
   "cell_type": "code",
   "execution_count": 2,
   "id": "a9e63cb9",
   "metadata": {},
   "outputs": [],
   "source": [
    "%matplotlib inline\n",
    "import matplotlib.pyplot as plt\n",
    "import yt\n",
    "import numpy as np\n",
    "import os\n",
    "import glob\n",
    "from astropy import units as u"
   ]
  },
  {
   "cell_type": "code",
   "execution_count": null,
   "id": "d311a57d",
   "metadata": {},
   "outputs": [],
   "source": [
    "root_dir = \"/home/joy0921/Desktop/2023S/Single_shell_case_study/finer_time\"\n",
    "file_prefix = \"sn34_smd132_bx5_pe300_hdf5_plt_cnt_\"\n",
    "\n",
    "# 0200 ~ 0360, increment by 1\n",
    "lower_limit = 200\n",
    "upper_limit = 360\n",
    "offset = 1\n",
    "\n",
    "for i in range(lower_limit, upper_limit + 1, offset):\n",
    "    if(i < 1000):\n",
    "        filename = f\"{file_prefix}_0{i}\"\n",
    "    else:\n",
    "        filename = f\"{file_prefix}_{i}\"\n",
    "        \n",
    "    # loading image data\n",
    "    ds = yt.load(os.path.join(root_dir, filename))\n",
    "    ds = yt.load_archive(\"finer_time.tar.gz\", \"finer_time\")\n",
    "    \n",
    "    \n",
    "    break\n",
    "\n"
   ]
  }
 ],
 "metadata": {
  "kernelspec": {
   "display_name": "Python 3 (ipykernel)",
   "language": "python",
   "name": "python3"
  },
  "language_info": {
   "codemirror_mode": {
    "name": "ipython",
    "version": 3
   },
   "file_extension": ".py",
   "mimetype": "text/x-python",
   "name": "python",
   "nbconvert_exporter": "python",
   "pygments_lexer": "ipython3",
   "version": "3.10.9"
  }
 },
 "nbformat": 4,
 "nbformat_minor": 5
}
